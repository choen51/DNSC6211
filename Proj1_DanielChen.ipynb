{
 "cells": [
  {
   "cell_type": "code",
   "execution_count": 1,
   "metadata": {
    "collapsed": false
   },
   "outputs": [
    {
     "name": "stdout",
     "output_type": "stream",
     "text": [
      "dcchen\r\n"
     ]
    }
   ],
   "source": [
    "NAME = \"Daniel Chen\"\n",
    "!whoami"
   ]
  },
  {
   "cell_type": "code",
   "execution_count": null,
   "metadata": {
    "collapsed": true
   },
   "outputs": [],
   "source": []
  },
  {
   "cell_type": "code",
   "execution_count": 23,
   "metadata": {
    "collapsed": false
   },
   "outputs": [],
   "source": [
    "# Prob 1, Part A:\n",
    "# Assert location of \"women.txt\"\n",
    "import os\n",
    "assert \"women.txt\" in os.listdir('/home/dcchen/ISTM6212')"
   ]
  },
  {
   "cell_type": "code",
   "execution_count": 22,
   "metadata": {
    "collapsed": false
   },
   "outputs": [
    {
     "name": "stdout",
     "output_type": "stream",
     "text": [
      "1347\r\n"
     ]
    }
   ],
   "source": [
    "# Prob 1, Part A:\n",
    "# Number of times \"Jo\" is mentioned in the text (-w ensures exact match)\n",
    "!grep -w Jo women.txt | wc -l"
   ]
  },
  {
   "cell_type": "code",
   "execution_count": 24,
   "metadata": {
    "collapsed": false
   },
   "outputs": [
    {
     "name": "stdout",
     "output_type": "stream",
     "text": [
      "457\r\n"
     ]
    }
   ],
   "source": [
    "# Prob 1, Part A:\n",
    "# Number of times \"Beth\" is mentioned in the text (-w ensures exact match)\n",
    "!grep -w Beth women.txt | wc -l"
   ]
  },
  {
   "cell_type": "code",
   "execution_count": 25,
   "metadata": {
    "collapsed": false
   },
   "outputs": [
    {
     "name": "stdout",
     "output_type": "stream",
     "text": [
      "683\r\n"
     ]
    }
   ],
   "source": [
    "# Prob 1, Part A:\n",
    "# Number of times \"Meg\" is mentioned in the text (-w ensures exact match)\n",
    "!grep -w Meg women.txt | wc -l"
   ]
  },
  {
   "cell_type": "code",
   "execution_count": 26,
   "metadata": {
    "collapsed": false
   },
   "outputs": [
    {
     "name": "stdout",
     "output_type": "stream",
     "text": [
      "643\r\n"
     ]
    }
   ],
   "source": [
    "# Prob 1, Part A:\n",
    "# Number of times \"Amy\" is mentioned in the text (-w ensures exact match)\n",
    "!grep -w Amy women.txt | wc -l"
   ]
  },
  {
   "cell_type": "code",
   "execution_count": 27,
   "metadata": {
    "collapsed": true
   },
   "outputs": [],
   "source": [
    "# Prob 1, Part B:\n",
    "# Assert location of \"romeo.txt\"\n",
    "import os\n",
    "assert \"romeo.txt\" in os.listdir('/home/dcchen/ISTM6212')"
   ]
  },
  {
   "cell_type": "code",
   "execution_count": 28,
   "metadata": {
    "collapsed": false
   },
   "outputs": [
    {
     "name": "stdout",
     "output_type": "stream",
     "text": [
      "117\r\n"
     ]
    }
   ],
   "source": [
    "# Prob 1, Part B:\n",
    "# Number of Juliet lines\n",
    "!grep \"^  Jul. \" romeo.txt | wc -l"
   ]
  },
  {
   "cell_type": "code",
   "execution_count": 29,
   "metadata": {
    "collapsed": false
   },
   "outputs": [
    {
     "name": "stdout",
     "output_type": "stream",
     "text": [
      "163\r\n"
     ]
    }
   ],
   "source": [
    "# Prob 1, Part B:\n",
    "# Number of Romeo lines\n",
    "!grep \"^  Rom. \" romeo.txt | wc -l"
   ]
  },
  {
   "cell_type": "code",
   "execution_count": 30,
   "metadata": {
    "collapsed": true
   },
   "outputs": [],
   "source": [
    "# Prob 2, Part A:\n",
    "# Assert location of Capital Bikeshare csv file\n",
    "import os\n",
    "assert \"2016q1.csv\" in os.listdir('/home/dcchen/ISTM6212')"
   ]
  },
  {
   "cell_type": "code",
   "execution_count": 31,
   "metadata": {
    "collapsed": false
   },
   "outputs": [
    {
     "name": "stdout",
     "output_type": "stream",
     "text": [
      "  13120 Columbus Circle / Union Station\r\n",
      "   9560 Massachusetts Ave & Dupont Circle NW\r\n",
      "   9388 Lincoln Memorial\r\n",
      "   8138 Jefferson Dr & 14th St SW\r\n",
      "   7479 Thomas Circle\r\n",
      "   7401 15th & P St NW\r\n",
      "   6568 14th & V St NW\r\n",
      "   6491 New Hampshire Ave & T St NW\r\n",
      "   5649 Eastern Market Metro / Pennsylvania Ave & 7th St SE\r\n",
      "   5514 17th & Corcoran St NW\r\n"
     ]
    }
   ],
   "source": [
    "# Prob 2, Part A:\n",
    "# 10 most popular \"departure\" stations\n",
    "!csvcut -c5 2016q1.csv|sort|uniq -c|sort -rn|head -10"
   ]
  },
  {
   "cell_type": "code",
   "execution_count": 32,
   "metadata": {
    "collapsed": false
   },
   "outputs": [
    {
     "name": "stdout",
     "output_type": "stream",
     "text": [
      "  13880 Columbus Circle / Union Station\r\n",
      "  11183 Massachusetts Ave & Dupont Circle NW\r\n",
      "   9419 Lincoln Memorial\r\n",
      "   8975 Jefferson Dr & 14th St SW\r\n",
      "   8092 15th & P St NW\r\n",
      "   7267 14th & V St NW\r\n",
      "   6997 Thomas Circle\r\n",
      "   6245 New Hampshire Ave & T St NW\r\n",
      "   5761 5th & K St NW\r\n",
      "   5651 17th & Corcoran St NW\r\n"
     ]
    }
   ],
   "source": [
    "# Prob 2, Part A:\n",
    "# 10 most popular \"arrival\" stations\n",
    "!csvcut -c7 2016q1.csv|sort|uniq -c|sort -rn|head -10"
   ]
  },
  {
   "cell_type": "code",
   "execution_count": 24,
   "metadata": {
    "collapsed": false
   },
   "outputs": [
    {
     "name": "stdout",
     "output_type": "stream",
     "text": [
      "     17 Columbus Circle / Union Station,W22227\r\n",
      "     16 Columbus Circle / Union Station,W21867\r\n",
      "     16 Columbus Circle / Union Station,W21641\r\n",
      "     16 Columbus Circle / Union Station,W21538\r\n",
      "     16 Columbus Circle / Union Station,W21239\r\n",
      "     16 Columbus Circle / Union Station,W20540\r\n",
      "     16 Columbus Circle / Union Station,W00714\r\n",
      "     15 Columbus Circle / Union Station,W22080\r\n",
      "     15 Columbus Circle / Union Station,W21450\r\n",
      "     15 Columbus Circle / Union Station,W21076\r\n",
      "sort: write failed: 'standard output': Broken pipe\r\n",
      "sort: write error\r\n"
     ]
    }
   ],
   "source": [
    "# Prob 2, Part B:\n",
    "# 10 most popular bikes (in bike number \"W.....\") of the most popular departure station\n",
    "!csvcut -c5,8 2016q1.csv|csvgrep -c1 -m 'Columbus Circle / Union Station'|sort|uniq -c|sort -rn|head -10"
   ]
  },
  {
   "cell_type": "code",
   "execution_count": 25,
   "metadata": {
    "collapsed": false
   },
   "outputs": [
    {
     "name": "stdout",
     "output_type": "stream",
     "text": [
      "     18 Columbus Circle / Union Station,W00485\r\n",
      "     17 Columbus Circle / Union Station,W22227\r\n",
      "     16 Columbus Circle / Union Station,W22099\r\n",
      "     16 Columbus Circle / Union Station,W22080\r\n",
      "     16 Columbus Circle / Union Station,W21239\r\n",
      "     16 Columbus Circle / Union Station,W21076\r\n",
      "     16 Columbus Circle / Union Station,W20425\r\n",
      "     16 Columbus Circle / Union Station,W00714\r\n",
      "     15 Columbus Circle / Union Station,W21997\r\n",
      "     15 Columbus Circle / Union Station,W21867\r\n",
      "sort: write failed: 'standard output': Broken pipe\r\n",
      "sort: write error\r\n"
     ]
    }
   ],
   "source": [
    "# Prob 2, Part B:\n",
    "# 10 most popular bikes (in bike number \"W.....\") of the most popular arrival stations\n",
    "!csvcut -c7,8 2016q1.csv|csvgrep -c1 -m 'Columbus Circle / Union Station'|sort|uniq -c|sort -rn|head -10"
   ]
  },
  {
   "cell_type": "code",
   "execution_count": 51,
   "metadata": {
    "collapsed": false
   },
   "outputs": [
    {
     "name": "stdout",
     "output_type": "stream",
     "text": [
      "   8155 and\r\n",
      "   7689 the\r\n",
      "   5152 to\r\n",
      "   4531 a\r\n",
      "   4003 i\r\n",
      "   3523 of\r\n",
      "   3245 her\r\n",
      "   2774 it\r\n",
      "   2503 in\r\n",
      "   2447 you\r\n",
      "sort: write failed: 'standard output': Broken pipe\r\n",
      "sort: write error\r\n"
     ]
    }
   ],
   "source": [
    "# Prob 3, Part A:\n",
    "# Invoke python filters to count the top ten unique words in Little Women.\n",
    "!cat women.txt|python Proj1_Filter_Split.py|python Proj1_Filter_LowerCase.py|grep -v -e \"^$\"|sort|uniq -c|sort -rn|head -10"
   ]
  },
  {
   "cell_type": "code",
   "execution_count": 46,
   "metadata": {
    "collapsed": false
   },
   "outputs": [
    {
     "name": "stdout",
     "output_type": "stream",
     "text": [
      "   8155 and\r\n",
      "   7689 the\r\n",
      "   5152 to\r\n",
      "   3523 of\r\n",
      "   3245 her\r\n",
      "   2774 it\r\n",
      "   2503 in\r\n",
      "   2447 you\r\n",
      "   2343 she\r\n",
      "   2233 for\r\n",
      "sort: write failed: 'standard output': Broken pipe\r\n",
      "sort: write error\r\n"
     ]
    }
   ],
   "source": [
    "# Prob 3, Part A:\n",
    "# Double-check the previous output using shell command\n",
    "!cat women.txt|grep -oE '\\w{{2,}}'|tr '[:upper:]' '[:lower:]'|sort|uniq -c|sort -rn|head -10"
   ]
  },
  {
   "cell_type": "code",
   "execution_count": 62,
   "metadata": {
    "collapsed": false
   },
   "outputs": [
    {
     "name": "stdout",
     "output_type": "stream",
     "text": [
      "   5152 to\r\n",
      "   4531 a\r\n",
      "   4003 i\r\n",
      "   3523 of\r\n",
      "   3245 her\r\n",
      "   2774 it\r\n",
      "   2503 in\r\n",
      "   2447 you\r\n",
      "   2343 she\r\n",
      "   2233 for\r\n",
      "   2033 was\r\n",
      "   1978 as\r\n",
      "   1937 that\r\n",
      "   1854 with\r\n",
      "   1680 t\r\n",
      "   1598 he\r\n",
      "   1495 s\r\n",
      "   1469 but\r\n",
      "   1362 jo\r\n",
      "   1135 so\r\n",
      "   1118 his\r\n",
      "   1067 at\r\n",
      "   1063 had\r\n",
      "   1014 be\r\n",
      "    976 on\r\n",
      "sort: write failed: 'standard output': Broken pipe\r\n",
      "sort: write error\r\n"
     ]
    }
   ],
   "source": [
    "# Prob 3, Part B:\n",
    "# Display the top 25 words of Little Women after the removal of stop words\n",
    "!cat women.txt|python Proj1_Filter_Split.py|python Proj1_Filter_LowerCase.py|python Proj1_Filter_StopWords.py|grep -v -e \"^$\"|sort|uniq -c|sort -rn|head -25"
   ]
  },
  {
   "cell_type": "code",
   "execution_count": null,
   "metadata": {
    "collapsed": true
   },
   "outputs": [],
   "source": [
    "# Extra Credit:\n",
    "# GNU Parallels: To be implemented"
   ]
  },
  {
   "cell_type": "code",
   "execution_count": null,
   "metadata": {
    "collapsed": true
   },
   "outputs": [],
   "source": []
  }
 ],
 "metadata": {
  "kernelspec": {
   "display_name": "Python 3",
   "language": "python",
   "name": "python3"
  },
  "language_info": {
   "codemirror_mode": {
    "name": "ipython",
    "version": 3
   },
   "file_extension": ".py",
   "mimetype": "text/x-python",
   "name": "python",
   "nbconvert_exporter": "python",
   "pygments_lexer": "ipython3",
   "version": "3.5.2"
  }
 },
 "nbformat": 4,
 "nbformat_minor": 1
}
